{
 "cells": [
  {
   "cell_type": "code",
   "execution_count": 1,
   "metadata": {},
   "outputs": [],
   "source": [
    "from time import sleep\n",
    "import pandas as pd\n",
    "from selenium import webdriver\n",
    "from webdriver_manager.chrome import ChromeDriverManager\n",
    "from selenium.webdriver.common.by import By\n",
    "from selenium.webdriver.support.wait import WebDriverWait\n",
    "from selenium.webdriver.support import expected_conditions as EC\n",
    "from bs4 import BeautifulSoup\n",
    "import os\n",
    "import re"
   ]
  },
  {
   "cell_type": "code",
   "execution_count": 2,
   "metadata": {},
   "outputs": [
    {
     "name": "stderr",
     "output_type": "stream",
     "text": [
      "/var/folders/lv/lrbqlp3d26b923phcb7jgnj40000gn/T/ipykernel_56321/296406841.py:1: DeprecationWarning: executable_path has been deprecated, please pass in a Service object\n",
      "  driver = webdriver.Chrome(ChromeDriverManager().install())\n"
     ]
    }
   ],
   "source": [
    "driver = webdriver.Chrome(ChromeDriverManager().install())\n",
    "to_location = 'MAD'\n",
    "url = 'https://www.kayak.es/flights/BCN-LXA/2022-12-03-flexible-2days?sort=bestflight_a'"
   ]
  },
  {
   "cell_type": "code",
   "execution_count": 3,
   "metadata": {},
   "outputs": [],
   "source": [
    "driver.get(url)\n",
    "WebDriverWait(driver, 10).until(EC.element_to_be_clickable(('xpath', '//div[@class = \"dDYU-close dDYU-mod-variant-default dDYU-mod-size-default\"]'))).click()"
   ]
  },
  {
   "cell_type": "code",
   "execution_count": 4,
   "metadata": {},
   "outputs": [
    {
     "name": "stdout",
     "output_type": "stream",
     "text": [
      "<selenium.webdriver.remote.webelement.WebElement (session=\"d2ae5ea020bfa16c20649ef7a1a9eba5\", element=\"7fe9743a-19c6-4aa6-a993-1db4769ce282\")>\n"
     ]
    }
   ],
   "source": [
    "flight = driver.find_element('xpath', '//div[@class = \"inner-grid keel-grid\"]')\n",
    "print(flight)"
   ]
  },
  {
   "cell_type": "code",
   "execution_count": 5,
   "metadata": {},
   "outputs": [
    {
     "name": "stdout",
     "output_type": "stream",
     "text": [
      "1/12\n",
      "6:05\n",
      "17:40\n",
      "Lufthansa, Air China\n",
      "1046 €\n"
     ]
    }
   ],
   "source": [
    "elementHTML = flight.get_attribute('outerHTML')\n",
    "elementSoup = BeautifulSoup(elementHTML,'html.parser')\n",
    "\n",
    "#date\n",
    "date = elementSoup.find(\"span\",{\"class\": \"flag\"}).get_text()\n",
    "\n",
    "#depart time\n",
    "depart_time = elementSoup.find(\"span\",{\"class\": \"depart-time base-time\"}).get_text()\n",
    "\n",
    "#arrival time\n",
    "arrival_time = elementSoup.find(\"span\",{\"class\": \"arrival-time base-time\"}).get_text()\n",
    "\n",
    "#company names\n",
    "company_name = elementSoup.find(\"span\",{\"class\": \"codeshares-airline-names\"}).get_text()\n",
    "\n",
    "#price\n",
    "temp_price = elementSoup.find(\"div\", {\"class\": \"col-price result-column js-no-dtog\"})\n",
    "price = temp_price.find(\"span\", {\"class\": \"price-text\"}).get_text().strip()\n",
    "\n",
    "print(date)\n",
    "print(depart_time)\n",
    "print(arrival_time)\n",
    "print(company_name)\n",
    "print(price)"
   ]
  }
 ],
 "metadata": {
  "kernelspec": {
   "display_name": "Python 3.9.12 ('ironhack')",
   "language": "python",
   "name": "python3"
  },
  "language_info": {
   "codemirror_mode": {
    "name": "ipython",
    "version": 3
   },
   "file_extension": ".py",
   "mimetype": "text/x-python",
   "name": "python",
   "nbconvert_exporter": "python",
   "pygments_lexer": "ipython3",
   "version": "3.9.12"
  },
  "orig_nbformat": 4,
  "vscode": {
   "interpreter": {
    "hash": "10cad967c453900039007de2b11d94e822a1579bed14f6590fb511028dcecd61"
   }
  }
 },
 "nbformat": 4,
 "nbformat_minor": 2
}
