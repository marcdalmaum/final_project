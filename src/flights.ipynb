{
 "cells": [
  {
   "cell_type": "code",
   "execution_count": 1,
   "metadata": {},
   "outputs": [],
   "source": [
    "from selenium import webdriver\n",
    "from webdriver_manager.chrome import ChromeDriverManager\n",
    "from selenium.webdriver.common.by import By\n",
    "from selenium.webdriver.support.wait import WebDriverWait\n",
    "from selenium.webdriver.support import expected_conditions as EC\n",
    "from bs4 import BeautifulSoup"
   ]
  },
  {
   "cell_type": "code",
   "execution_count": 2,
   "metadata": {},
   "outputs": [
    {
     "name": "stderr",
     "output_type": "stream",
     "text": [
      "/var/folders/lv/lrbqlp3d26b923phcb7jgnj40000gn/T/ipykernel_59593/2756176129.py:5: DeprecationWarning: executable_path has been deprecated, please pass in a Service object\n",
      "  driver = webdriver.Chrome(ChromeDriverManager().install())\n"
     ]
    }
   ],
   "source": [
    "source = \"BCN\"\n",
    "destination = \"DXB\"\n",
    "date = \"2022-12-10\"\n",
    "\n",
    "driver = webdriver.Chrome(ChromeDriverManager().install())\n",
    "url = f'https://www.kayak.es/flights/{source}-{destination}/{date}-flexible-2days?sort=bestflight_a'\n",
    "driver.get(url)\n",
    "WebDriverWait(driver, 10).until(EC.element_to_be_clickable(('xpath', '//div[@class = \"dDYU-close dDYU-mod-variant-default dDYU-mod-size-default\"]'))).click()\n",
    "flight = driver.find_element('xpath', '//div[@class = \"inner-grid keel-grid\"]')"
   ]
  },
  {
   "cell_type": "code",
   "execution_count": 4,
   "metadata": {},
   "outputs": [],
   "source": [
    "elementHTML = flight.get_attribute('outerHTML')\n",
    "elementSoup = BeautifulSoup(elementHTML,'html.parser')\n",
    "flight_details = []\n",
    "\n",
    "#date\n",
    "date = elementSoup.find(\"span\",{\"class\": \"flag\"}).get_text()\n",
    "flight_details.append(date)\n",
    "\n",
    "#depart time\n",
    "depart_time = elementSoup.find(\"span\",{\"class\": \"depart-time base-time\"}).get_text()\n",
    "flight_details.append(depart_time)\n",
    "\n",
    "#arrival time\n",
    "arrival_time = elementSoup.find(\"span\",{\"class\": \"arrival-time base-time\"}).get_text()\n",
    "flight_details.append(arrival_time)\n",
    "\n",
    "#company names\n",
    "company_name = elementSoup.find(\"span\",{\"class\": \"codeshares-airline-names\"}).get_text()\n",
    "flight_details.append(company_name)\n",
    "\n",
    "#price\n",
    "temp_price = elementSoup.find(\"div\", {\"class\": \"col-price result-column js-no-dtog\"})\n",
    "price = temp_price.find(\"span\", {\"class\": \"price-text\"}).get_text().strip().replace(u'\\xa0', u' ')\n",
    "flight_details.append(price)"
   ]
  },
  {
   "cell_type": "code",
   "execution_count": 5,
   "metadata": {},
   "outputs": [
    {
     "name": "stdout",
     "output_type": "stream",
     "text": [
      "286 €\n"
     ]
    }
   ],
   "source": [
    "print(flight_details[-1])"
   ]
  },
  {
   "cell_type": "code",
   "execution_count": 6,
   "metadata": {},
   "outputs": [
    {
     "name": "stdout",
     "output_type": "stream",
     "text": [
      "[None, '15:00', '2:50', 'Turkish Airlines', '286 €']\n"
     ]
    }
   ],
   "source": [
    "print(flight_details)"
   ]
  }
 ],
 "metadata": {
  "kernelspec": {
   "display_name": "Python 3.9.12 ('ironhack')",
   "language": "python",
   "name": "python3"
  },
  "language_info": {
   "codemirror_mode": {
    "name": "ipython",
    "version": 3
   },
   "file_extension": ".py",
   "mimetype": "text/x-python",
   "name": "python",
   "nbconvert_exporter": "python",
   "pygments_lexer": "ipython3",
   "version": "3.9.12"
  },
  "orig_nbformat": 4,
  "vscode": {
   "interpreter": {
    "hash": "10cad967c453900039007de2b11d94e822a1579bed14f6590fb511028dcecd61"
   }
  }
 },
 "nbformat": 4,
 "nbformat_minor": 2
}
